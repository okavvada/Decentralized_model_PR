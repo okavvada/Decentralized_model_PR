{
 "cells": [
  {
   "cell_type": "code",
   "execution_count": 1,
   "metadata": {
    "collapsed": false
   },
   "outputs": [],
   "source": [
    "import pandas as pd\n",
    "import math"
   ]
  },
  {
   "cell_type": "code",
   "execution_count": 2,
   "metadata": {
    "collapsed": false
   },
   "outputs": [],
   "source": [
    "from Parameters import *\n",
    "from Object_class import Pumps, Pipes"
   ]
  },
  {
   "cell_type": "code",
   "execution_count": 3,
   "metadata": {
    "collapsed": false
   },
   "outputs": [],
   "source": [
    "grid_data_top=pd.read_csv('grid_length_elevation_TOP.csv')"
   ]
  },
  {
   "cell_type": "code",
   "execution_count": 4,
   "metadata": {
    "collapsed": false
   },
   "outputs": [],
   "source": [
    "grid_data_pump = pd.DataFrame()\n",
    "for index, row in grid_data_top.iterrows():\n",
    "    pump_pressure = 0\n",
    "    if row.elevation_head > minimum_pressure*(-1):\n",
    "        pump_pressure = minimum_pressure + row.elevation_head\n",
    "    row['pump_pressure'] = pump_pressure\n",
    "    grid_data_pump = grid_data_pump.append(row)"
   ]
  },
  {
   "cell_type": "code",
   "execution_count": 5,
   "metadata": {
    "collapsed": false
   },
   "outputs": [],
   "source": [
    "grid_data_pump.columns\n",
    "people_range=range(100,10600,500)\n",
    "Electricity_GHG_LCA = 0.18"
   ]
  },
  {
   "cell_type": "code",
   "execution_count": 6,
   "metadata": {
    "collapsed": false
   },
   "outputs": [],
   "source": [
    "all_dataframe = []\n",
    "demand_collection_m3_s = total_demand_central/(24*3600)\n",
    "elevation_head_collection = top_elevation\n",
    "pipe_length_collection = pipe_length_Oceanside_top\n",
    "Pipe_collection = Pipes(pipe_diameter_collection, demand_collection_m3_s, pipe_length_collection)\n",
    "Pump_collection = Pumps(pipe_diameter_collection, demand_collection_m3_s, elevation_head_collection, 0, pipe_length_collection)\n",
    "Treatment_DPR = microfiltration_energy+RO_energy+advanced_oxidation_energy\n",
    "Secondary_treatment = Secondary_treatment\n",
    "\n",
    "#pipe energy\n",
    "PVC_energy_collection_kWh_m3 = Pipe_collection.PVC_energy()\n",
    "    \n",
    "#total head_collection\n",
    "total_head_collection = Pump_collection.total_head()\n",
    "\n",
    "#actual pump horsepower\n",
    "pump_hp_collection = Pump_collection.pump_size()\n",
    "\n",
    "#Pump Operation\n",
    "Pump_operat_collection_energy_KWh_m3=Pump_collection.pump_energy()\n",
    "for i in people_range:\n",
    "    people = i\n",
    "    result = []\n",
    "    for index, grid_id in grid_data_pump.iterrows():\n",
    "        demand_m3_s = people*demand/(24*3600)\n",
    "        elevation_head_distribution = 0\n",
    "        pump_pressure = float(grid_id.pump_pressure)\n",
    "        pipe_length_distribution = float(grid_id.pipe_length_to_top)\n",
    "        Pump_distribution = Pumps(pipe_diameter_distribution, demand_m3_s, elevation_head_distribution, pump_pressure, pipe_length_distribution)\n",
    "\n",
    "\n",
    "        #total head_distribution\n",
    "        total_head_distribution = Pump_distribution.total_head()\n",
    "\n",
    "        #actual pump horsepower\n",
    "        pump_hp_distribution = Pump_distribution.pump_size()\n",
    "\n",
    "        #Pump Operation\n",
    "        Pump_operat_distribution_energy_KWh_m3=Pump_distribution.pump_energy()\n",
    "\n",
    "\n",
    "        all_dataframe.append((people, int(grid_id.grid_ID), Pump_operat_distribution_energy_KWh_m3, \n",
    "                       PVC_energy_collection_kWh_m3, Pump_operat_collection_energy_KWh_m3, Treatment_DPR, Secondary_treatment))\n",
    "all_results = pd.DataFrame(all_dataframe)\n",
    "all_results.columns=['People','grid_ID', 'Pump_operat_energy_KWh_m3',\n",
    "                          'PVC_energy_collection_kWh_m3', 'Pump_operat_collection_energy_KWh_m3', \n",
    "                  'Treatment DPR', 'Secondary treatment']"
   ]
  },
  {
   "cell_type": "code",
   "execution_count": 9,
   "metadata": {
    "collapsed": false
   },
   "outputs": [],
   "source": [
    "all_results.to_csv('PR_central_energy_top.csv')"
   ]
  },
  {
   "cell_type": "code",
   "execution_count": null,
   "metadata": {
    "collapsed": true
   },
   "outputs": [],
   "source": []
  },
  {
   "cell_type": "code",
   "execution_count": null,
   "metadata": {
    "collapsed": true
   },
   "outputs": [],
   "source": []
  }
 ],
 "metadata": {
  "kernelspec": {
   "display_name": "Python [Root]",
   "language": "python",
   "name": "Python [Root]"
  },
  "language_info": {
   "codemirror_mode": {
    "name": "ipython",
    "version": 3
   },
   "file_extension": ".py",
   "mimetype": "text/x-python",
   "name": "python",
   "nbconvert_exporter": "python",
   "pygments_lexer": "ipython3",
   "version": "3.5.2"
  }
 },
 "nbformat": 4,
 "nbformat_minor": 0
}
